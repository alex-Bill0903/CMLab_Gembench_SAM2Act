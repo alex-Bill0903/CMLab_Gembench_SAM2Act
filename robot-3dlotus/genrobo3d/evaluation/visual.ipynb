{
 "cells": [
  {
   "cell_type": "code",
   "execution_count": 1,
   "metadata": {},
   "outputs": [],
   "source": [
    "import matplotlib.pyplot as plt\n",
    "import numpy as np"
   ]
  },
  {
   "cell_type": "code",
   "execution_count": null,
   "metadata": {},
   "outputs": [],
   "source": [
    "import numpy as np\n",
    "import matplotlib.pyplot as plt\n",
    "\n",
    "# 1. Load data\n",
    "path = \"/home/bill/Documents/research/CVPR_gembench_baseline/robot-3dlotus/data/experiments/gembench/3dlotus/v1/preds/seed200/record_video/reach_and_drag_peract+14-0-15.npy\"\n",
    "data = np.load(path, allow_pickle=True).item()\n",
    "obs = data[\"obs\"]\n",
    "# 讀完 data 之後：\n",
    "action_full = data[\"action\"]       # shape (8,)\n",
    "# 取前 3 維：XYZ\n",
    "action_xyz  = action_full[:3]      # shape (3,)\n",
    "\n",
    "# 2. Prepare RGB and point cloud arrays\n",
    "rgbs = np.stack(obs[\"rgb\"], axis=0)  # shape (4, H, W, 3)\n",
    "pcs  = np.stack(obs[\"pc\"], axis=0)   # shape (4, H, W, 3)\n",
    "\n",
    "# 3. Plot each view with action overlay\n",
    "fig, axes = plt.subplots(2, 2, figsize=(10, 10))\n",
    "axes = axes.flatten()\n",
    "\n",
    "for i, ax in enumerate(axes):\n",
    "    rgb_img = rgbs[i]\n",
    "    pc_img = pcs[i]  # world coordinates per pixel\n",
    "\n",
    "    # Find pixel whose 3D coordinate is closest to the action point\n",
    "    flat_pc = pc_img.reshape(-1, 3)\n",
    "    dists = np.linalg.norm(flat_pc - action_xyz, axis=1)\n",
    "    nearest_idx = np.argmin(dists)\n",
    "    h, w, _ = pc_img.shape\n",
    "    row = nearest_idx // w\n",
    "    col = nearest_idx % w\n",
    "\n",
    "    # Display the RGB image and overlay action position\n",
    "    ax.imshow(rgb_img.astype(np.uint8))\n",
    "    ax.scatter(col, row, s=100, marker='x')\n",
    "    ax.set_title(f\"View {i}\")\n",
    "    ax.axis('off')\n",
    "\n",
    "plt.tight_layout()\n",
    "plt.show()\n",
    "\n"
   ]
  }
 ],
 "metadata": {
  "kernelspec": {
   "display_name": "gembench",
   "language": "python",
   "name": "python3"
  },
  "language_info": {
   "codemirror_mode": {
    "name": "ipython",
    "version": 3
   },
   "file_extension": ".py",
   "mimetype": "text/x-python",
   "name": "python",
   "nbconvert_exporter": "python",
   "pygments_lexer": "ipython3",
   "version": "3.10.0"
  }
 },
 "nbformat": 4,
 "nbformat_minor": 2
}
